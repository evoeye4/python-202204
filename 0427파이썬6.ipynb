{
  "nbformat": 4,
  "nbformat_minor": 0,
  "metadata": {
    "colab": {
      "name": "0427파이썬6.ipynb",
      "provenance": [],
      "authorship_tag": "ABX9TyMtC42BhtWslkqqhqEmZy1K",
      "include_colab_link": true
    },
    "kernelspec": {
      "name": "python3",
      "display_name": "Python 3"
    },
    "language_info": {
      "name": "python"
    }
  },
  "cells": [
    {
      "cell_type": "markdown",
      "metadata": {
        "id": "view-in-github",
        "colab_type": "text"
      },
      "source": [
        "<a href=\"https://colab.research.google.com/github/evoeye4/python-202204/blob/main/0427%ED%8C%8C%EC%9D%B4%EC%8D%AC6.ipynb\" target=\"_parent\"><img src=\"https://colab.research.google.com/assets/colab-badge.svg\" alt=\"Open In Colab\"/></a>"
      ]
    },
    {
      "cell_type": "code",
      "execution_count": 2,
      "metadata": {
        "colab": {
          "base_uri": "https://localhost:8080/"
        },
        "id": "_8EDx045eOcx",
        "outputId": "b04fe749-e90c-4012-f0fb-fb6d00129b60"
      },
      "outputs": [
        {
          "output_type": "stream",
          "name": "stdout",
          "text": [
            "우편번호 12345\n",
            "서울시 영등포구 여의도동\n"
          ]
        }
      ],
      "source": [
        "# p192 반환값\n",
        "\n",
        "def address():\n",
        "  str ='우편번호 12345\\n'\n",
        "  str += '서울시 영등포구 여의도동'\n",
        "  return str\n",
        "\n",
        "print(address())"
      ]
    },
    {
      "cell_type": "code",
      "source": [
        "def calculator(*args):  # 가변 매개변수\n",
        "  return (sum(args), sum(args)/len(args), max(args), min(args)) # 1개의 튜플로 리턴\n",
        "\n",
        "a,b,c,d = calculator(1,2,3,4,5)\n",
        "print(a)\n",
        "print(b)\n",
        "print(c)\n",
        "print(d)"
      ],
      "metadata": {
        "colab": {
          "base_uri": "https://localhost:8080/"
        },
        "id": "YxzsU5jNfB1M",
        "outputId": "3b675620-be4b-4125-c893-d72adc25e237"
      },
      "execution_count": 4,
      "outputs": [
        {
          "output_type": "stream",
          "name": "stdout",
          "text": [
            "15\n",
            "3.0\n",
            "5\n",
            "1\n"
          ]
        }
      ]
    },
    {
      "cell_type": "code",
      "source": [
        "def charge(energy):\n",
        "  if energy < 0:\n",
        "    print('0보다 작은 에너지는 충전할 수 없습니다.')\n",
        "    return\n",
        "  print('에너지가 충전되었습니다.')\n",
        "\n",
        "charge(1)\n",
        "charge(-1)"
      ],
      "metadata": {
        "colab": {
          "base_uri": "https://localhost:8080/"
        },
        "id": "6pLBTYSjgdZy",
        "outputId": "df95e8fc-8e0a-4e24-a125-6b5135b18f4a"
      },
      "execution_count": 5,
      "outputs": [
        {
          "output_type": "stream",
          "name": "stdout",
          "text": [
            "에너지가 충전되었습니다.\n",
            "0보다 작은 에너지는 충전할 수 없습니다.\n"
          ]
        }
      ]
    },
    {
      "cell_type": "code",
      "source": [
        "# 지연번수 local variable (******) 와 전역변수 global variable\n",
        "\n",
        "def f():\n",
        "  a = 10  # 지역변수\n",
        "  print(f'f() 내부 : {a}')\n",
        "\n",
        "f()\n",
        "print(a)\n",
        "\n",
        "# 함수 안에서 선언한 변수(지역변수)는 함수 안에서만 의미가 있다."
      ],
      "metadata": {
        "colab": {
          "base_uri": "https://localhost:8080/",
          "height": 218
        },
        "id": "daQYUhWuhIJe",
        "outputId": "e01128ed-f9ec-446f-b859-23474751b840"
      },
      "execution_count": 1,
      "outputs": [
        {
          "output_type": "stream",
          "name": "stdout",
          "text": [
            "f() 내부 : 10\n"
          ]
        },
        {
          "output_type": "error",
          "ename": "NameError",
          "evalue": "ignored",
          "traceback": [
            "\u001b[0;31m---------------------------------------------------------------------------\u001b[0m",
            "\u001b[0;31mNameError\u001b[0m                                 Traceback (most recent call last)",
            "\u001b[0;32m<ipython-input-1-c5961673f706>\u001b[0m in \u001b[0;36m<module>\u001b[0;34m()\u001b[0m\n\u001b[1;32m      6\u001b[0m \u001b[0;34m\u001b[0m\u001b[0m\n\u001b[1;32m      7\u001b[0m \u001b[0mf\u001b[0m\u001b[0;34m(\u001b[0m\u001b[0;34m)\u001b[0m\u001b[0;34m\u001b[0m\u001b[0;34m\u001b[0m\u001b[0m\n\u001b[0;32m----> 8\u001b[0;31m \u001b[0mprint\u001b[0m\u001b[0;34m(\u001b[0m\u001b[0ma\u001b[0m\u001b[0;34m)\u001b[0m\u001b[0;34m\u001b[0m\u001b[0;34m\u001b[0m\u001b[0m\n\u001b[0m",
            "\u001b[0;31mNameError\u001b[0m: name 'a' is not defined"
          ]
        }
      ]
    },
    {
      "cell_type": "code",
      "source": [
        "b = 10   # 전역변수 global variable\n",
        "\n",
        "def f():\n",
        "  print(f'f() 내부:{b}')\n",
        "\n",
        "f()\n",
        "print(b)"
      ],
      "metadata": {
        "colab": {
          "base_uri": "https://localhost:8080/"
        },
        "id": "gO7gHY8Zi4tM",
        "outputId": "715db73e-59dc-47e4-a23f-ccb007031902"
      },
      "execution_count": 3,
      "outputs": [
        {
          "output_type": "stream",
          "name": "stdout",
          "text": [
            "f() 내부:10\n",
            "10\n"
          ]
        }
      ]
    },
    {
      "cell_type": "code",
      "source": [
        "def vending_machine(money):\n",
        "  drink = 700\n",
        "  n = 1\n",
        "  for n in range(5):\n",
        "    if n > 5:\n",
        "      break\n",
        "\n",
        "    print(f'음료수 = {n}개, 잔돈 = {money-(drink*n)}원')\n",
        "\n",
        "\n",
        "vending_machine(3000)"
      ],
      "metadata": {
        "id": "mXEcbNjGjZEZ"
      },
      "execution_count": null,
      "outputs": []
    },
    {
      "cell_type": "code",
      "source": [
        "def vending_machine(money):\n",
        "  price = 700\n",
        "  cups = money // price\n",
        "  for drink in range(cups+1):\n",
        "    coin = money - drink*price\n",
        "    print(f'음료수 = {drink}개, 잔돈={coin}원')\n",
        "\n",
        "vending_machine(3000)"
      ],
      "metadata": {
        "colab": {
          "base_uri": "https://localhost:8080/"
        },
        "id": "C57BdxrTmc_k",
        "outputId": "ba40502a-c884-46ba-9265-925cf52145a2"
      },
      "execution_count": 5,
      "outputs": [
        {
          "output_type": "stream",
          "name": "stdout",
          "text": [
            "음료수 = 0개, 잔돈=3000원\n",
            "음료수 = 1개, 잔돈=2300원\n",
            "음료수 = 2개, 잔돈=1600원\n",
            "음료수 = 3개, 잔돈=900원\n",
            "음료수 = 4개, 잔돈=200원\n"
          ]
        }
      ]
    },
    {
      "cell_type": "code",
      "source": [
        "def get_average(marks):\n",
        "  sum = 0\n",
        "  for mark in marks:\n",
        "    sum += marks[mark]\n",
        "  avg = sum / len(marks)\n",
        "  return avg\n",
        "\n",
        "\n",
        "marks = {'국어':90, '영어':80, '수학':85}\n",
        "average = get_average(marks)\n",
        "print(f'평균은 {average}입니다.')"
      ],
      "metadata": {
        "colab": {
          "base_uri": "https://localhost:8080/"
        },
        "id": "CV-5vRhooZSL",
        "outputId": "141655e0-d5a3-4a06-cc48-fc4ec8fe26cf"
      },
      "execution_count": 14,
      "outputs": [
        {
          "output_type": "stream",
          "name": "stdout",
          "text": [
            "평균은 85.0입니다.\n"
          ]
        }
      ]
    },
    {
      "cell_type": "code",
      "source": [
        "# module 과 import\n",
        "\n",
        "# module = .py 모든 파이썬 파일은 모듈이다."
      ],
      "metadata": {
        "id": "zIikYElNwApx"
      },
      "execution_count": null,
      "outputs": []
    }
  ]
}