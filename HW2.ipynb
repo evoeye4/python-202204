{
  "nbformat": 4,
  "nbformat_minor": 0,
  "metadata": {
    "colab": {
      "name": "HW2.ipynb",
      "provenance": [],
      "authorship_tag": "ABX9TyPCqRZcMn0L1D07dI1opyLB",
      "include_colab_link": true
    },
    "kernelspec": {
      "name": "python3",
      "display_name": "Python 3"
    },
    "language_info": {
      "name": "python"
    }
  },
  "cells": [
    {
      "cell_type": "markdown",
      "metadata": {
        "id": "view-in-github",
        "colab_type": "text"
      },
      "source": [
        "<a href=\"https://colab.research.google.com/github/evoeye4/python-202204/blob/main/HW2.ipynb\" target=\"_parent\"><img src=\"https://colab.research.google.com/assets/colab-badge.svg\" alt=\"Open In Colab\"/></a>"
      ]
    },
    {
      "cell_type": "code",
      "execution_count": 2,
      "metadata": {
        "colab": {
          "base_uri": "https://localhost:8080/"
        },
        "id": "ZzqpHH9AW-wf",
        "outputId": "5188b9c6-d83b-4b8f-f5a5-c411865298d6"
      },
      "outputs": [
        {
          "output_type": "stream",
          "name": "stdout",
          "text": [
            "['닥터 스트레인지', '스플릿', '럭키']\n"
          ]
        }
      ],
      "source": [
        "# 051\n",
        "\n",
        "movie_rank = ['닥터 스트레인지', '스플릿', '럭키']\n",
        "print(movie_rank)"
      ]
    },
    {
      "cell_type": "code",
      "source": [
        "# 052\n",
        "\n",
        "movie_rank = ['닥터 스트레인지', '스플릿', '럭키'] + ['배트맨']\n",
        "\n",
        "\n",
        "print(movie_rank)"
      ],
      "metadata": {
        "colab": {
          "base_uri": "https://localhost:8080/"
        },
        "id": "5XvZHCo8XYoi",
        "outputId": "5d6c3891-1560-46d3-93eb-a55bc44a135f"
      },
      "execution_count": 8,
      "outputs": [
        {
          "output_type": "stream",
          "name": "stdout",
          "text": [
            "['닥터 스트레인지', '스플릿', '럭키', '배트맨']\n"
          ]
        }
      ]
    },
    {
      "cell_type": "code",
      "source": [
        "# 053\n",
        "\n",
        "movie_rank = ['닥터 스트레인지', '스플릿', '럭키', '배트맨']\n",
        "\n",
        "movie_rank.insert(1,\"슈퍼맨\")\n",
        "\n",
        "print(movie_rank)"
      ],
      "metadata": {
        "colab": {
          "base_uri": "https://localhost:8080/"
        },
        "id": "jEzCSvchYuzA",
        "outputId": "1d0a2d7f-a64e-4ae2-a0ce-42a329827339"
      },
      "execution_count": 22,
      "outputs": [
        {
          "output_type": "stream",
          "name": "stdout",
          "text": [
            "['닥터 스트레인지', '슈퍼맨', '스플릿', '럭키', '배트맨']\n"
          ]
        }
      ]
    },
    {
      "cell_type": "code",
      "source": [
        "# 054\n",
        "\n",
        "movie_rank = ['닥터 스트레인지', '슈퍼맨', '스플릿', '럭키', '배트맨']\n",
        "\n",
        "del movie_rank[3]\n",
        "\n",
        "print(movie_rank)"
      ],
      "metadata": {
        "colab": {
          "base_uri": "https://localhost:8080/"
        },
        "id": "DmzbTaoIZgrp",
        "outputId": "4b0ecd12-804b-4e9c-f62f-e437cc804198"
      },
      "execution_count": 17,
      "outputs": [
        {
          "output_type": "stream",
          "name": "stdout",
          "text": [
            "['닥터 스트레인지', '슈퍼맨', '스플릿', '배트맨']\n"
          ]
        }
      ]
    },
    {
      "cell_type": "code",
      "source": [
        "# 055\n",
        "\n",
        "movie_rank = ['닥터 스트레인지', '슈퍼맨', '스플릿', '배트맨']\n",
        "\n",
        "del movie_rank[2:]\n",
        "\n",
        "print(movie_rank)"
      ],
      "metadata": {
        "colab": {
          "base_uri": "https://localhost:8080/"
        },
        "id": "J02KWCcUZomF",
        "outputId": "dd41de41-7420-4e55-b7eb-e5c4b4613bb8"
      },
      "execution_count": 21,
      "outputs": [
        {
          "output_type": "stream",
          "name": "stdout",
          "text": [
            "['닥터 스트레인지', '슈퍼맨']\n"
          ]
        }
      ]
    },
    {
      "cell_type": "code",
      "source": [
        "# 056\n",
        "\n",
        "lang1 = [\"c\", \"C++\", \"JAVA\"]\n",
        "lang2 = [\"Python\", \"Go\", \"C#\"]\n",
        "\n",
        "langs = lang1 + lang2\n",
        "\n",
        "print(langs)"
      ],
      "metadata": {
        "colab": {
          "base_uri": "https://localhost:8080/"
        },
        "id": "LZng2pi5ZprB",
        "outputId": "34e0c8e1-3a8e-4434-86a9-995183adc9e3"
      },
      "execution_count": 1,
      "outputs": [
        {
          "output_type": "stream",
          "name": "stdout",
          "text": [
            "['c', 'C++', 'JAVA', 'Python', 'Go', 'C#']\n"
          ]
        }
      ]
    },
    {
      "cell_type": "code",
      "source": [
        "# 057\n",
        "\n",
        "nums = [1, 2, 3, 4, 5, 6, 7]\n",
        "nums_max = max(nums)\n",
        "nums_min = min(nums)\n",
        "\n",
        "print(f'max : {nums_max} ')\n",
        "print(f'min : {nums_min}')"
      ],
      "metadata": {
        "colab": {
          "base_uri": "https://localhost:8080/"
        },
        "id": "_QeEvTaOkt8_",
        "outputId": "8d7e5f9d-bf6a-462d-ca3d-816fab8412ca"
      },
      "execution_count": 14,
      "outputs": [
        {
          "output_type": "stream",
          "name": "stdout",
          "text": [
            "max : 7 \n",
            "min : 1\n"
          ]
        }
      ]
    },
    {
      "cell_type": "code",
      "source": [
        "# 058\n",
        "\n",
        "nums = [1, 2, 3, 4, 5]\n",
        "\n",
        "sum(nums)"
      ],
      "metadata": {
        "colab": {
          "base_uri": "https://localhost:8080/"
        },
        "id": "1pkeFMqrpP90",
        "outputId": "b537e9f8-eca5-49ae-efb3-e1f01031ce8b"
      },
      "execution_count": 15,
      "outputs": [
        {
          "output_type": "execute_result",
          "data": {
            "text/plain": [
              "15"
            ]
          },
          "metadata": {},
          "execution_count": 15
        }
      ]
    },
    {
      "cell_type": "code",
      "source": [
        "# 059\n",
        "\n",
        "cook = [\"피자\", \"김밥\", \"만두\", \"양념치킨\", \"족발\", \"피자\", \"김치만두\", \n",
        "\"쫄면\", \"쏘세지\", \"라면\", \"팥빙수\", \"김치전\"]\n",
        "\n",
        "cook.count()\n"
      ],
      "metadata": {
        "colab": {
          "base_uri": "https://localhost:8080/"
        },
        "id": "9-UQ_i9-pa8r",
        "outputId": "777854fe-4c3c-4b0c-d60f-50fcd6ee12cc"
      },
      "execution_count": 25,
      "outputs": [
        {
          "output_type": "execute_result",
          "data": {
            "text/plain": [
              "0"
            ]
          },
          "metadata": {},
          "execution_count": 25
        }
      ]
    },
    {
      "cell_type": "code",
      "source": [
        "# 060\n",
        "\n",
        "nums = [1, 2, 3, 4, 5]\n",
        "avg = sum(nums) / 5\n",
        "print(f' {avg}')"
      ],
      "metadata": {
        "colab": {
          "base_uri": "https://localhost:8080/"
        },
        "id": "gwCQNy_drmcw",
        "outputId": "f3e5aa57-6623-4437-a204-30aafdd6c1bd"
      },
      "execution_count": 1,
      "outputs": [
        {
          "output_type": "stream",
          "name": "stdout",
          "text": [
            " 3.0\n"
          ]
        }
      ]
    },
    {
      "cell_type": "code",
      "source": [
        "# 121\n",
        "\n",
        "put = input('>>')\n",
        "\n",
        "if put.islower():\n",
        "  print(put.upper())\n",
        "else:\n",
        "  print(put.lower())"
      ],
      "metadata": {
        "colab": {
          "base_uri": "https://localhost:8080/"
        },
        "id": "apyHSxTG-H7A",
        "outputId": "f89e0a90-f12f-436e-bed7-6e9ed70f9beb"
      },
      "execution_count": 4,
      "outputs": [
        {
          "output_type": "stream",
          "name": "stdout",
          "text": [
            ">>a\n",
            "A\n"
          ]
        }
      ]
    },
    {
      "cell_type": "code",
      "source": [
        "# 122\n",
        "\n",
        "scr = int(input('>> score :'))\n",
        "\n",
        "if scr >= 80:\n",
        "  print('grade is A')\n",
        "elif scr >= 60:\n",
        "  print('grade is B')\n",
        "elif scr >= 40:\n",
        "  print('grade is C')\n",
        "elif scr >= 20:\n",
        "  print('grade is D')\n",
        "else:\n",
        "  print('grade is E')\n"
      ],
      "metadata": {
        "colab": {
          "base_uri": "https://localhost:8080/"
        },
        "id": "BjuVzmeL-S6I",
        "outputId": "3460a10f-1e49-43ca-c32c-ffedc16c1b40"
      },
      "execution_count": 5,
      "outputs": [
        {
          "output_type": "stream",
          "name": "stdout",
          "text": [
            ">> score :83\n",
            "grade is A\n"
          ]
        }
      ]
    },
    {
      "cell_type": "code",
      "source": [
        "# 123\n",
        "\n",
        "money = {'달러' : 1167,\n",
        "         '엔' : 1.096,\n",
        "         '유로' : 1268,\n",
        "         '위안' : 171}\n",
        "\n",
        "put = input('>>입력: ')\n",
        "num, currency = put.split()\n",
        "\n",
        "print(float(num) * money[currency], \"원\")"
      ],
      "metadata": {
        "colab": {
          "base_uri": "https://localhost:8080/"
        },
        "id": "kwX9VNvtALcx",
        "outputId": "b1b49c5b-51c3-420b-90e6-040759c16a6f"
      },
      "execution_count": 14,
      "outputs": [
        {
          "output_type": "stream",
          "name": "stdout",
          "text": [
            ">>입력: 100 달러\n",
            "116700.0 원\n"
          ]
        }
      ]
    },
    {
      "cell_type": "code",
      "source": [
        "# 124\n",
        "\n",
        "number1 = int(input('>> input number1 :'))\n",
        "number2 = int(input('>> input number2 :'))\n",
        "number3 = int(input('>> input number3 :'))\n",
        "\n",
        "if number1 >= number2 and number2 >= number3:\n",
        "  print(number1)\n",
        "elif number2 >= number1 and number1 >= number3:\n",
        "  print(number2)\n",
        "else:\n",
        "  print(number3) "
      ],
      "metadata": {
        "colab": {
          "base_uri": "https://localhost:8080/"
        },
        "id": "ii8H3Ub4EVf5",
        "outputId": "f85890b2-e2c1-4a04-98a2-db8818b15802"
      },
      "execution_count": 9,
      "outputs": [
        {
          "output_type": "stream",
          "name": "stdout",
          "text": [
            ">> input number1 :10\n",
            ">> input number2 :9\n",
            ">> input number3 :20\n",
            "20\n"
          ]
        }
      ]
    },
    {
      "cell_type": "code",
      "source": [
        ""
      ],
      "metadata": {
        "id": "9r1L-EDCF3WJ"
      },
      "execution_count": null,
      "outputs": []
    },
    {
      "cell_type": "code",
      "source": [
        "# 125\n",
        "\n",
        "number = input('>> 휴대전화 번호 입력:')\n",
        "no = int(number[2])\n",
        "\n",
        "if no == 1:\n",
        "  print('당신은 SKT 사용자입니다.')\n",
        "elif no == 6:\n",
        "   print('당신은 KT 사용자입니다.')\n",
        "elif no == 9:\n",
        "   print('당신은 LGU 사용자입니다.')\n",
        "else:\n",
        "  print('알수없음')"
      ],
      "metadata": {
        "colab": {
          "base_uri": "https://localhost:8080/"
        },
        "id": "CTruOEknF3X3",
        "outputId": "23861c81-29b1-41fb-e827-7734955573aa"
      },
      "execution_count": 23,
      "outputs": [
        {
          "output_type": "stream",
          "name": "stdout",
          "text": [
            ">> 휴대전화 번호 입력:011-345-1922\n",
            "당신은 SKT 사용자입니다.\n"
          ]
        }
      ]
    },
    {
      "cell_type": "code",
      "source": [
        "# 126\n",
        "\n",
        "post = input('>>우편번호:')\n",
        "post_no = int(post[2])\n",
        "if post_no <= 3:\n",
        "  print('강북구')\n",
        "elif post_no <= 7:\n",
        "  print('도봉구')\n",
        "elif post_no <= 10:\n",
        "  print('노원구')\n",
        "else:\n",
        "  ('다시 입력 하세요')"
      ],
      "metadata": {
        "colab": {
          "base_uri": "https://localhost:8080/"
        },
        "id": "U1V24NSnN-RV",
        "outputId": "d791234e-81e6-45f4-9962-56ca68297521"
      },
      "execution_count": 28,
      "outputs": [
        {
          "output_type": "stream",
          "name": "stdout",
          "text": [
            ">>우편번호:01400\n",
            "도봉구\n"
          ]
        }
      ]
    },
    {
      "cell_type": "code",
      "source": [
        "# 127\n",
        "\n",
        "RRN = input('>> 주민등록번호:')\n",
        "RNN_sex = int(RRN[7])\n",
        "\n",
        "if RNN_sex % 2 == 0:\n",
        "  print('여자')\n",
        "else:\n",
        "  print('남자')\n"
      ],
      "metadata": {
        "colab": {
          "base_uri": "https://localhost:8080/"
        },
        "id": "ekwS0ef5Pjtz",
        "outputId": "fcdfbc99-4eb9-483a-cd0b-13b7dcaac330"
      },
      "execution_count": 33,
      "outputs": [
        {
          "output_type": "stream",
          "name": "stdout",
          "text": [
            ">> 주민등록번호:821010-1635210\n",
            "남자\n"
          ]
        }
      ]
    },
    {
      "cell_type": "code",
      "source": [
        "# 129\n",
        "\n",
        "RNN = input('>> 주민등록번호:')\n",
        "RNN1 = int(RNN[-1])\n",
        "RNN_v = int(RNN[0])*2 + int(RNN[1])*3 + int(RNN[2])*4 + int(RNN[3])*5 + \\\n",
        "        int(RNN[4])*6 + int(RNN[5])*7 + int(RNN[7])*8 + int(RNN[8])*9 + \\\n",
        "        int(RNN[9])*2 + int(RNN[10])*3 + int(RNN[11])*4 + int(RNN[12])*5\n",
        "RNN_v1 = RNN_v / 11\n",
        "RNN_v2 = str(RNN_v1 - 7)\n",
        "\n",
        "if RNN1 == RNN_v2:\n",
        "  print('유효한 주민등록 번호 입니다.')\n",
        "else:\n",
        "  print('유효하지 않은 주민등록번호입니다.')\n"
      ],
      "metadata": {
        "colab": {
          "base_uri": "https://localhost:8080/"
        },
        "id": "8bI8jgzxQ42n",
        "outputId": "666782b8-4d0a-4847-ef9c-46cf41ff1830"
      },
      "execution_count": 39,
      "outputs": [
        {
          "output_type": "stream",
          "name": "stdout",
          "text": [
            ">> 주민등록번호:821010-1635210\n",
            "유효하지 않은 주민등록번호입니다.\n"
          ]
        }
      ]
    },
    {
      "cell_type": "code",
      "source": [
        "# 130\n",
        "\n",
        "import requests\n",
        "btc =\n",
        "requests.get(\"https://api.bithumb.com/public/ticker/\").json()['data']\n",
        "\n",
        "price1 = float(btc['min_price'])   # 최저가\n",
        "price2 = float(btc['max_price'])   # 최고가\n",
        "price3 = float(price2 - price1)  # 변동폭\n",
        "price4 = float(btc['opening_price'])   # 시가\n",
        "\n",
        "if price3 + price4 >= price2:\n",
        "  print('\"상승장\"')\n",
        "else:\n",
        "  print('\"하락장\"')"
      ],
      "metadata": {
        "colab": {
          "base_uri": "https://localhost:8080/",
          "height": 131
        },
        "id": "V2HF5q64WkCm",
        "outputId": "bb574e2e-9b6f-42e5-8483-7ec3532341d4"
      },
      "execution_count": 1,
      "outputs": [
        {
          "output_type": "error",
          "ename": "SyntaxError",
          "evalue": "ignored",
          "traceback": [
            "\u001b[0;36m  File \u001b[0;32m\"<ipython-input-1-c95555f89809>\"\u001b[0;36m, line \u001b[0;32m4\u001b[0m\n\u001b[0;31m    btc =\u001b[0m\n\u001b[0m         ^\u001b[0m\n\u001b[0;31mSyntaxError\u001b[0m\u001b[0;31m:\u001b[0m invalid syntax\n"
          ]
        }
      ]
    }
  ]
}