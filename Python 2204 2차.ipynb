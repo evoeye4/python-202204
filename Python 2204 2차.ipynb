{
  "nbformat": 4,
  "nbformat_minor": 0,
  "metadata": {
    "colab": {
      "name": "Untitled1.ipynb",
      "provenance": [],
      "authorship_tag": "ABX9TyMGlSma8DrTTiUQjam4vgdl",
      "include_colab_link": true
    },
    "kernelspec": {
      "name": "python3",
      "display_name": "Python 3"
    },
    "language_info": {
      "name": "python"
    }
  },
  "cells": [
    {
      "cell_type": "markdown",
      "metadata": {
        "id": "view-in-github",
        "colab_type": "text"
      },
      "source": [
        "<a href=\"https://colab.research.google.com/github/evoeye4/python-202204/blob/main/Python%202204%202%EC%B0%A8.ipynb\" target=\"_parent\"><img src=\"https://colab.research.google.com/assets/colab-badge.svg\" alt=\"Open In Colab\"/></a>"
      ]
    },
    {
      "cell_type": "code",
      "execution_count": 4,
      "metadata": {
        "colab": {
          "base_uri": "https://localhost:8080/"
        },
        "id": "OvtMc6yYLnEz",
        "outputId": "c5cfbc34-0b9d-4530-d9da-87f43cd711a1"
      },
      "outputs": [
        {
          "output_type": "stream",
          "name": "stdout",
          "text": [
            "%d % 10\n",
            "100 원입니다.\n",
            "원주율은 3.140000입니다.\n",
            "원주율은 3.14입니다.\n"
          ]
        }
      ],
      "source": [
        "print('%d % 10')\n",
        "print('%d 원입니다.' % 100)\n",
        "\n",
        "print('원주율은 %f입니다.' % 3.14)\n",
        "print('원주율은 %s입니다.' % 3.14)\n"
      ]
    },
    {
      "cell_type": "code",
      "source": [
        "print('%5d' % 1)\n",
        "print('%5d' % 12)\n",
        "print('%-5d' % 1)\n",
        "print('%-5d' % 12)"
      ],
      "metadata": {
        "colab": {
          "base_uri": "https://localhost:8080/"
        },
        "id": "uZAO-LVXMQbc",
        "outputId": "d8f0a494-87ee-447f-82ac-4875c441fe81"
      },
      "execution_count": 7,
      "outputs": [
        {
          "output_type": "stream",
          "name": "stdout",
          "text": [
            "    1\n",
            "   12\n",
            "1    \n",
            "12   \n"
          ]
        }
      ]
    },
    {
      "cell_type": "code",
      "source": [
        "# format() 매서드\n",
        "\n",
        "\n",
        "print('My name is {}'.format('James'))"
      ],
      "metadata": {
        "colab": {
          "base_uri": "https://localhost:8080/"
        },
        "id": "dZOduibEMshO",
        "outputId": "c047d350-b92b-4d19-b122-f83bbdecb535"
      },
      "execution_count": 9,
      "outputs": [
        {
          "output_type": "stream",
          "name": "stdout",
          "text": [
            "My name is James\n"
          ]
        }
      ]
    },
    {
      "cell_type": "code",
      "source": [
        "#1.기본출력\n",
        "name = \"James\"\n",
        "age = 25\n",
        "print('My name is', name, 'I\\'m',age, 'years old')\n",
        "\n",
        "#2. % 연산자\n",
        "print('My name is %s I\\'m %s years old' % ('James', 25))\n",
        "\n",
        "\n",
        "#3. format 매서드\n",
        "print('My name is {} I\\'m {} years old'.format('James', 25))\n",
        "\n",
        "\n",
        "#4. f string (***)\n",
        "print(f'My name is {name} I\\'m {age} years old')\n"
      ],
      "metadata": {
        "colab": {
          "base_uri": "https://localhost:8080/"
        },
        "id": "ySaYR00kNNOB",
        "outputId": "8ea4b69f-801b-4ad7-ea21-ece5d83ed2ec"
      },
      "execution_count": 22,
      "outputs": [
        {
          "output_type": "stream",
          "name": "stdout",
          "text": [
            "My name is James I'm 25 years old\n",
            "My name is James I'm 25 years old\n",
            "My name is James I'm 25 years old\n",
            "My name is James I'm 25 years old\n"
          ]
        }
      ]
    },
    {
      "cell_type": "code",
      "source": [
        "age= 25\n",
        "\n",
        "print(f'내년엔 {age+1}살이 됩니다.')"
      ],
      "metadata": {
        "colab": {
          "base_uri": "https://localhost:8080/"
        },
        "id": "pootqHSsP_e2",
        "outputId": "1cfb7f1f-7f3e-49d7-eff9-aa8137de2eec"
      },
      "execution_count": 23,
      "outputs": [
        {
          "output_type": "stream",
          "name": "stdout",
          "text": [
            "내년엔 26살이 됩니다.\n"
          ]
        }
      ]
    }
  ]
}