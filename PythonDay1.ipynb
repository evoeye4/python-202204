{
  "nbformat": 4,
  "nbformat_minor": 0,
  "metadata": {
    "colab": {
      "name": "PythonDay1.ipynb",
      "provenance": [],
      "authorship_tag": "ABX9TyNmR35YVS7gCzyQ/iFu48PB",
      "include_colab_link": true
    },
    "kernelspec": {
      "name": "python3",
      "display_name": "Python 3"
    },
    "language_info": {
      "name": "python"
    }
  },
  "cells": [
    {
      "cell_type": "markdown",
      "metadata": {
        "id": "view-in-github",
        "colab_type": "text"
      },
      "source": [
        "<a href=\"https://colab.research.google.com/github/evoeye4/python-202204/blob/main/PythonDay1.ipynb\" target=\"_parent\"><img src=\"https://colab.research.google.com/assets/colab-badge.svg\" alt=\"Open In Colab\"/></a>"
      ]
    },
    {
      "cell_type": "code",
      "execution_count": null,
      "metadata": {
        "colab": {
          "base_uri": "https://localhost:8080/"
        },
        "id": "LVwTMuG2eVJe",
        "outputId": "1b82923b-c4d1-4f67-924d-c7057c05010c"
      },
      "outputs": [
        {
          "output_type": "stream",
          "name": "stdout",
          "text": [
            "hello world\n"
          ]
        }
      ],
      "source": [
        "# 파이썬이란?\n",
        "# 귀도 반 로썸\n",
        "# 1. 인터프리터 언어이다. 한줄한줄 실행한 결과를 바로바로 볼수 있다.\n",
        "# 2. 플랫폼에 독립적이다. 맥 윈도우 리눅스... 전부 같은 파이썬 코드를 사용 할 수 있다.\n",
        "# 3. 객체지향 언어이다. 객체를 기반으로 정보은닉, 상속 등등의 개념을 지원한다.\n",
        "# 4. 동적 타이핑 언어이다. 실행 중에 처리할 수 있는 작업을 동적 작업이라 하고 파이썬은 이것을 지원한다.\n",
        "# 5. 개발 속도가 빠르다. 이미 만들어 놓은 다양한 라이브러리를 사용하여 빠르게 새로운 프로그램을 개발할 수 있다.\n",
        "\n",
        "\n",
        "# 주석 comment\n",
        "# 프로그램의 소스 코드에 설명을 작성하는 부분을 주석이라고 한다.\n",
        "# DocString ''' 코드 설명 '''\n",
        "\n",
        "\n",
        "'''\n",
        "여러줄1\n",
        "여러줄2\n",
        "여러줄3\n",
        "'''\n",
        "\"\"\", \"\"\"\n",
        "\n",
        "\n"
      ]
    },
    {
      "cell_type": "code",
      "source": [
        "# math 모듈 포함\n",
        "import math\n",
        "\n",
        "# get_area()함수 정의\n",
        "def get_area(radius):\n",
        "     \"\"\"반지름을 입력받아 원의 넓이를 반환하는 get_area() 함수\"\"\"\n",
        "     area=math.pi*math.pow(radius, 2)\n",
        "     return area\n",
        "\n",
        "radius = 1.5\n",
        "# get_area() 함수 호출 결과를 area 변수에 저장\n",
        "area = get_area(radius)\n",
        "print(area)\n",
        "print(get_area.__doc__) # Dockstring 확인"
      ],
      "metadata": {
        "id": "iiWq_LoBo9F4",
        "outputId": "d3a8e180-1486-4a6f-c15f-c5b57f2522d9",
        "colab": {
          "base_uri": "https://localhost:8080/"
        }
      },
      "execution_count": null,
      "outputs": [
        {
          "output_type": "stream",
          "name": "stdout",
          "text": [
            "7.0685834705770345\n",
            "반지름을 입력받아 원의 넓이를 반환하는 get_area() 함수\n"
          ]
        }
      ]
    },
    {
      "cell_type": "code",
      "source": [
        "# 코드 우에 주석 달기\n",
        "print('hello world') # 코드 오른쪽에 주석 달기"
      ],
      "metadata": {
        "id": "jd1lf_lRrNmn"
      },
      "execution_count": null,
      "outputs": []
    },
    {
      "cell_type": "code",
      "source": [
        "# 변수...\n",
        "# variable 어떤 데이터를 저장 할때 사용하는 메모리 저장소\n",
        "\n",
        "score = 100\n",
        "\n",
        "print(100)\n",
        "print(score)\n",
        "\n",
        "\n",
        "# 변수명 만드는 규칙\n",
        "\n",
        "# 1. 영문 한글 숫자 밑줄로 구성된다. (한글은 사용하지 말자)\n",
        "# 2. 특수문자는 사용할 수 없다.(@,#,$,%,...)\n",
        "# 3. 대문자와 소문자를 구분한다. a = 1, A = 2 다름\n",
        "# 4. 변수명의 첫글자에는 숫자가 올 수 없다. a1 = 1 (O), 1a = 2 (x)\n",
        "# 5. 예약어, 키워드는 변수명으로 사용할 수 없다.\n",
        "\n",
        "# * 추천사항 \n",
        "\n",
        "# * 가급적이면 소문자로만 만들자\n",
        "# * 한글 변수명은 가능하지만 사용하지 말자\n",
        "# * 변수명에 의미를 담자.  a = 85, mathScore = 85 \n",
        "\n"
      ],
      "metadata": {
        "id": "8L2qGDFLrbSL"
      },
      "execution_count": null,
      "outputs": []
    },
    {
      "cell_type": "code",
      "source": [
        "name = 'Alice'\n",
        "age = 25\n",
        "address = '''우편번호 12345\n",
        "서울시 영등포구 여의도동\n",
        "서울빌딩 501호'''\n",
        "boyfriend = None\n",
        "height = 168.5\n",
        "\n",
        "print(name)\n",
        "print(age)\n",
        "print(address)\n",
        "print(boyfriend)\n",
        "print(height)"
      ],
      "metadata": {
        "id": "uezpVCdautru",
        "outputId": "f093942f-5337-4a6e-d25c-5ebf21d12e92",
        "colab": {
          "base_uri": "https://localhost:8080/"
        }
      },
      "execution_count": null,
      "outputs": [
        {
          "output_type": "stream",
          "name": "stdout",
          "text": [
            "Alice\n",
            "25\n",
            "우편번호 12345\n",
            "서울시 영등포구 여의도동\n",
            "서울빌딩 501호\n",
            "None\n",
            "168.5\n"
          ]
        }
      ]
    },
    {
      "cell_type": "code",
      "source": [
        "# 기본 자료형\n",
        "\n",
        "# 정수 int\n",
        "a = 3\n",
        "print(a)\n",
        "\n",
        "a = 3.14\n",
        "print(a)\n",
        "\n",
        "a = 'hello'\n",
        "print(a)\n",
        "\n",
        "int(1.9)"
      ],
      "metadata": {
        "id": "V_ECPDaIzGIl",
        "outputId": "77c7a1b2-bfcb-402c-9e84-30afe8850a02",
        "colab": {
          "base_uri": "https://localhost:8080/"
        }
      },
      "execution_count": null,
      "outputs": [
        {
          "output_type": "stream",
          "name": "stdout",
          "text": [
            "3\n",
            "3.14\n",
            "hello\n"
          ]
        },
        {
          "output_type": "execute_result",
          "data": {
            "text/plain": [
              "1"
            ]
          },
          "metadata": {},
          "execution_count": 18
        }
      ]
    },
    {
      "cell_type": "code",
      "source": [
        "int(1.9)"
      ],
      "metadata": {
        "id": "2YuThSnz0AMV",
        "outputId": "14dc591f-3fdf-4091-deb6-72d1779a3239",
        "colab": {
          "base_uri": "https://localhost:8080/"
        }
      },
      "execution_count": null,
      "outputs": [
        {
          "output_type": "execute_result",
          "data": {
            "text/plain": [
              "1"
            ]
          },
          "metadata": {},
          "execution_count": 19
        }
      ]
    },
    {
      "cell_type": "code",
      "source": [
        "int('100')"
      ],
      "metadata": {
        "id": "8-X3Z0Iz0Gby",
        "outputId": "3f760cd8-38a9-4a6d-b2f6-c661fc4a8f2b",
        "colab": {
          "base_uri": "https://localhost:8080/"
        }
      },
      "execution_count": null,
      "outputs": [
        {
          "output_type": "execute_result",
          "data": {
            "text/plain": [
              "100"
            ]
          },
          "metadata": {},
          "execution_count": 20
        }
      ]
    },
    {
      "cell_type": "code",
      "source": [
        "int(True)\n",
        "\n",
        "int(False)"
      ],
      "metadata": {
        "id": "SJdFVzsA0O3f",
        "outputId": "7e797c3d-1317-4dcb-c7b3-eb8521ab394d",
        "colab": {
          "base_uri": "https://localhost:8080/"
        }
      },
      "execution_count": null,
      "outputs": [
        {
          "output_type": "execute_result",
          "data": {
            "text/plain": [
              "0"
            ]
          },
          "metadata": {},
          "execution_count": 23
        }
      ]
    },
    {
      "cell_type": "code",
      "source": [
        "# 실수 float\n",
        "\n",
        "float(1)"
      ],
      "metadata": {
        "id": "ue5RTqJi0fmR",
        "outputId": "5dcb3a49-f243-4898-e8a2-502a205ce5b9",
        "colab": {
          "base_uri": "https://localhost:8080/"
        }
      },
      "execution_count": null,
      "outputs": [
        {
          "output_type": "execute_result",
          "data": {
            "text/plain": [
              "1.0"
            ]
          },
          "metadata": {},
          "execution_count": 24
        }
      ]
    },
    {
      "cell_type": "code",
      "source": [
        "float(True)"
      ],
      "metadata": {
        "id": "uF8vCdbU0r-O",
        "outputId": "f4ee4bb8-8714-42ef-c2ca-37df20425169",
        "colab": {
          "base_uri": "https://localhost:8080/"
        }
      },
      "execution_count": null,
      "outputs": [
        {
          "output_type": "execute_result",
          "data": {
            "text/plain": [
              "1.0"
            ]
          },
          "metadata": {},
          "execution_count": 25
        }
      ]
    },
    {
      "cell_type": "code",
      "source": [
        "# 논리\n",
        "\n",
        "bool(10)"
      ],
      "metadata": {
        "id": "gkE-7LT202OA",
        "outputId": "55cd85a6-3089-41f5-bc9d-512de7791354",
        "colab": {
          "base_uri": "https://localhost:8080/"
        }
      },
      "execution_count": null,
      "outputs": [
        {
          "output_type": "execute_result",
          "data": {
            "text/plain": [
              "True"
            ]
          },
          "metadata": {},
          "execution_count": 26
        }
      ]
    },
    {
      "cell_type": "code",
      "source": [
        "bool(1)"
      ],
      "metadata": {
        "id": "VVbptvrv0_ZA",
        "outputId": "8b9301eb-135d-4350-c955-a14579e8106f",
        "colab": {
          "base_uri": "https://localhost:8080/"
        }
      },
      "execution_count": null,
      "outputs": [
        {
          "output_type": "execute_result",
          "data": {
            "text/plain": [
              "True"
            ]
          },
          "metadata": {},
          "execution_count": 27
        }
      ]
    },
    {
      "cell_type": "code",
      "source": [
        "bool(0)"
      ],
      "metadata": {
        "id": "pPYfKPTm1Dt2",
        "outputId": "0da3f247-f1f5-4dc0-e372-db208ffa5b1f",
        "colab": {
          "base_uri": "https://localhost:8080/"
        }
      },
      "execution_count": null,
      "outputs": [
        {
          "output_type": "execute_result",
          "data": {
            "text/plain": [
              "False"
            ]
          },
          "metadata": {},
          "execution_count": 28
        }
      ]
    },
    {
      "cell_type": "code",
      "source": [
        "# 문자열 str\n",
        "str(100)"
      ],
      "metadata": {
        "id": "CQyoa9kp1Mgk",
        "outputId": "bff5642e-52e0-491a-cc56-cc979af6aa4b",
        "colab": {
          "base_uri": "https://localhost:8080/",
          "height": 35
        }
      },
      "execution_count": null,
      "outputs": [
        {
          "output_type": "execute_result",
          "data": {
            "text/plain": [
              "'100'"
            ],
            "application/vnd.google.colaboratory.intrinsic+json": {
              "type": "string"
            }
          },
          "metadata": {},
          "execution_count": 29
        }
      ]
    },
    {
      "cell_type": "code",
      "source": [
        "str(True)"
      ],
      "metadata": {
        "id": "0zAvn_s01Vg6",
        "outputId": "b36e1702-92d7-4cf9-aec2-e732b7b38475",
        "colab": {
          "base_uri": "https://localhost:8080/",
          "height": 35
        }
      },
      "execution_count": null,
      "outputs": [
        {
          "output_type": "execute_result",
          "data": {
            "text/plain": [
              "'True'"
            ],
            "application/vnd.google.colaboratory.intrinsic+json": {
              "type": "string"
            }
          },
          "metadata": {},
          "execution_count": 30
        }
      ]
    },
    {
      "cell_type": "code",
      "source": [
        "str(3.14)"
      ],
      "metadata": {
        "id": "QYRJDPPE1b_Z",
        "outputId": "59030645-4b38-4751-82d1-ec3b2ea56a13",
        "colab": {
          "base_uri": "https://localhost:8080/",
          "height": 35
        }
      },
      "execution_count": null,
      "outputs": [
        {
          "output_type": "execute_result",
          "data": {
            "text/plain": [
              "'3.14'"
            ],
            "application/vnd.google.colaboratory.intrinsic+json": {
              "type": "string"
            }
          },
          "metadata": {},
          "execution_count": 31
        }
      ]
    },
    {
      "cell_type": "code",
      "source": [
        "# 인덱싱, 몇번째 한글자\n",
        "\n",
        "s = 'hello'\n",
        "s[0]\n",
        "\n",
        "# H e l l o\n",
        "# 0 1 2 3 4   index\n",
        "#-5-4-3-2-1"
      ],
      "metadata": {
        "id": "B-iKapPA1kZO",
        "outputId": "7e25eefe-dabb-4020-c0c5-9f99de0eb24e",
        "colab": {
          "base_uri": "https://localhost:8080/",
          "height": 35
        }
      },
      "execution_count": null,
      "outputs": [
        {
          "output_type": "execute_result",
          "data": {
            "text/plain": [
              "'h'"
            ],
            "application/vnd.google.colaboratory.intrinsic+json": {
              "type": "string"
            }
          },
          "metadata": {},
          "execution_count": 32
        }
      ]
    },
    {
      "cell_type": "code",
      "source": [
        "s[-4]"
      ],
      "metadata": {
        "id": "imx4e6cP2i5o",
        "outputId": "335c56c4-5d35-48ea-e508-514eeb370056",
        "colab": {
          "base_uri": "https://localhost:8080/",
          "height": 35
        }
      },
      "execution_count": null,
      "outputs": [
        {
          "output_type": "execute_result",
          "data": {
            "text/plain": [
              "'e'"
            ],
            "application/vnd.google.colaboratory.intrinsic+json": {
              "type": "string"
            }
          },
          "metadata": {},
          "execution_count": 35
        }
      ]
    },
    {
      "cell_type": "code",
      "source": [
        "# 슬라이싱, 몇번째부터 몇번째 여러글자\n",
        "s = 'hello'\n",
        "#s[0:2] # [시작:끝(미만)]\n",
        "#s[0:]  # 끝을 생략하면 끝까지\n",
        "s[:-1]  # 시작을 생략하면 처음부터"
      ],
      "metadata": {
        "id": "khh3cPX63ach",
        "outputId": "f4d036e0-d5e6-44c7-8762-fe37488b3825",
        "colab": {
          "base_uri": "https://localhost:8080/",
          "height": 35
        }
      },
      "execution_count": null,
      "outputs": [
        {
          "output_type": "execute_result",
          "data": {
            "text/plain": [
              "'hell'"
            ],
            "application/vnd.google.colaboratory.intrinsic+json": {
              "type": "string"
            }
          },
          "metadata": {},
          "execution_count": 39
        }
      ]
    },
    {
      "cell_type": "code",
      "source": [
        "s = '31025'\n",
        "print(s[0])\n",
        "print(s[1:3])\n",
        "print(s[3:])"
      ],
      "metadata": {
        "id": "iumaTZqO9aJC",
        "outputId": "12ed278b-8007-4050-bdfd-5572f8ada69e",
        "colab": {
          "base_uri": "https://localhost:8080/"
        }
      },
      "execution_count": 41,
      "outputs": [
        {
          "output_type": "stream",
          "name": "stdout",
          "text": [
            "3\n",
            "10\n",
            "25\n"
          ]
        }
      ]
    },
    {
      "cell_type": "code",
      "source": [
        "# 다음수업\n",
        "\n",
        "# List, Tuple, Dict, Set"
      ],
      "metadata": {
        "id": "AVlo96sA9cLl"
      },
      "execution_count": null,
      "outputs": []
    }
  ]
}